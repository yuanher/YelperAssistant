{
 "cells": [
  {
   "cell_type": "markdown",
   "metadata": {
    "colab_type": "text",
    "id": "MDun5KoL-VLm"
   },
   "source": [
    "## Install Surpriselib/ Environment Preparation"
   ]
  },
  {
   "cell_type": "code",
   "execution_count": 0,
   "metadata": {
    "colab": {
     "base_uri": "https://localhost:8080/",
     "height": 496
    },
    "colab_type": "code",
    "id": "QW0G1binyD1N",
    "outputId": "08de0da1-a4d8-4724-a219-89a2498e91a0"
   },
   "outputs": [
    {
     "name": "stdout",
     "output_type": "stream",
     "text": [
      "Requirement already satisfied: scikit-surprise in /usr/local/lib/python3.6/dist-packages (1.0.6)\n",
      "Requirement already satisfied: scipy>=1.0.0 in /usr/local/lib/python3.6/dist-packages (from scikit-surprise) (1.3.0)\n",
      "Requirement already satisfied: numpy>=1.11.2 in /usr/local/lib/python3.6/dist-packages (from scikit-surprise) (1.16.4)\n",
      "Requirement already satisfied: joblib>=0.11 in /usr/local/lib/python3.6/dist-packages (from scikit-surprise) (0.13.2)\n",
      "Requirement already satisfied: six>=1.10.0 in /usr/local/lib/python3.6/dist-packages (from scikit-surprise) (1.12.0)\n",
      "Requirement already satisfied: lightfm in /usr/local/lib/python3.6/dist-packages (1.15)\n",
      "Requirement already satisfied: numpy in /usr/local/lib/python3.6/dist-packages (from lightfm) (1.16.4)\n",
      "Requirement already satisfied: scipy>=0.17.0 in /usr/local/lib/python3.6/dist-packages (from lightfm) (1.3.0)\n",
      "Requirement already satisfied: requests in /usr/local/lib/python3.6/dist-packages (from lightfm) (2.21.0)\n",
      "Requirement already satisfied: chardet<3.1.0,>=3.0.2 in /usr/local/lib/python3.6/dist-packages (from requests->lightfm) (3.0.4)\n",
      "Requirement already satisfied: idna<2.9,>=2.5 in /usr/local/lib/python3.6/dist-packages (from requests->lightfm) (2.8)\n",
      "Requirement already satisfied: certifi>=2017.4.17 in /usr/local/lib/python3.6/dist-packages (from requests->lightfm) (2019.6.16)\n",
      "Requirement already satisfied: urllib3<1.25,>=1.21.1 in /usr/local/lib/python3.6/dist-packages (from requests->lightfm) (1.24.3)\n",
      "Requirement already satisfied: PyDrive in /usr/local/lib/python3.6/dist-packages (1.3.1)\n",
      "Requirement already satisfied: google-api-python-client>=1.2 in /usr/local/lib/python3.6/dist-packages (from PyDrive) (1.7.9)\n",
      "Requirement already satisfied: PyYAML>=3.0 in /usr/local/lib/python3.6/dist-packages (from PyDrive) (3.13)\n",
      "Requirement already satisfied: oauth2client>=4.0.0 in /usr/local/lib/python3.6/dist-packages (from PyDrive) (4.1.3)\n",
      "Requirement already satisfied: six<2dev,>=1.6.1 in /usr/local/lib/python3.6/dist-packages (from google-api-python-client>=1.2->PyDrive) (1.12.0)\n",
      "Requirement already satisfied: google-auth>=1.4.1 in /usr/local/lib/python3.6/dist-packages (from google-api-python-client>=1.2->PyDrive) (1.4.2)\n",
      "Requirement already satisfied: uritemplate<4dev,>=3.0.0 in /usr/local/lib/python3.6/dist-packages (from google-api-python-client>=1.2->PyDrive) (3.0.0)\n",
      "Requirement already satisfied: google-auth-httplib2>=0.0.3 in /usr/local/lib/python3.6/dist-packages (from google-api-python-client>=1.2->PyDrive) (0.0.3)\n",
      "Requirement already satisfied: httplib2<1dev,>=0.9.2 in /usr/local/lib/python3.6/dist-packages (from google-api-python-client>=1.2->PyDrive) (0.11.3)\n",
      "Requirement already satisfied: pyasn1-modules>=0.0.5 in /usr/local/lib/python3.6/dist-packages (from oauth2client>=4.0.0->PyDrive) (0.2.5)\n",
      "Requirement already satisfied: pyasn1>=0.1.7 in /usr/local/lib/python3.6/dist-packages (from oauth2client>=4.0.0->PyDrive) (0.4.5)\n",
      "Requirement already satisfied: rsa>=3.1.4 in /usr/local/lib/python3.6/dist-packages (from oauth2client>=4.0.0->PyDrive) (4.0)\n",
      "Requirement already satisfied: cachetools>=2.0.0 in /usr/local/lib/python3.6/dist-packages (from google-auth>=1.4.1->google-api-python-client>=1.2->PyDrive) (3.1.1)\n",
      "Requirement already satisfied: msgpack in /usr/local/lib/python3.6/dist-packages (0.5.6)\n"
     ]
    }
   ],
   "source": [
    "!apt-get install openjdk-8-jdk-headless -qq > /dev/null\n",
    "!wget -q https://archive.apache.org/dist/spark/spark-2.4.2/spark-2.4.2-bin-hadoop2.7.tgz\n",
    "!tar xf spark-2.4.2-bin-hadoop2.7.tgz\n",
    "!pip install -q findspark\n",
    "\n",
    "!pip install scikit-surprise\n",
    "\n",
    "!pip install lightfm\n",
    "\n",
    "!pip install PyDrive\n",
    "!pip install msgpack"
   ]
  },
  {
   "cell_type": "code",
   "execution_count": 0,
   "metadata": {
    "colab": {},
    "colab_type": "code",
    "id": "y-e9-YnDszpY"
   },
   "outputs": [],
   "source": [
    "import os\n",
    "os.environ[\"JAVA_HOME\"] = \"/usr/lib/jvm/java-8-openjdk-amd64\"\n",
    "os.environ[\"SPARK_HOME\"] = \"/content/spark-2.4.2-bin-hadoop2.7\""
   ]
  },
  {
   "cell_type": "code",
   "execution_count": 0,
   "metadata": {
    "colab": {},
    "colab_type": "code",
    "id": "XPXc1063yhe1"
   },
   "outputs": [],
   "source": [
    "import pandas as pd\n",
    "import numpy as np\n",
    "import math\n",
    "import matplotlib.pyplot as plt\n",
    "import urllib.request\n",
    "import zipfile\n",
    "\n",
    "from collections import defaultdict\n",
    "\n",
    "import msgpack\n",
    "\n",
    "import os\n",
    "from pydrive.auth import GoogleAuth\n",
    "from pydrive.drive import GoogleDrive\n",
    "from google.colab import auth\n",
    "from oauth2client.client import GoogleCredentials\n",
    "\n",
    "from sklearn.preprocessing import LabelEncoder\n",
    "from sklearn.model_selection import train_test_split as sk_tts\n",
    "\n",
    "import findspark\n",
    "findspark.init()\n",
    "from pyspark.sql import SparkSession\n",
    "from pyspark.sql.functions import isnan\n",
    "from pyspark.sql import functions as F\n",
    "from pyspark.ml import Pipeline\n",
    "from pyspark.ml.feature import StringIndexer, IndexToString\n",
    "from pyspark.ml.evaluation import RegressionEvaluator\n",
    "from pyspark import SparkContext\n",
    "from pyspark.sql.functions import lit\n",
    "from pyspark.ml.recommendation import ALS\n",
    "\n",
    "from surprise import Reader, Dataset\n",
    "from surprise import SVD, SVDpp, NMF, KNNBasic, KNNWithMeans, KNNWithZScore, BaselineOnly\n",
    "from surprise import accuracy\n",
    "from surprise.model_selection import train_test_split as surprise_tts\n",
    "from surprise.model_selection import GridSearchCV\n",
    "\n",
    "from lightfm import LightFM\n",
    "from lightfm.evaluation import precision_at_k\n",
    "from lightfm.evaluation import auc_score\n",
    "from scipy.sparse.coo import coo_matrix\n",
    "\n",
    "pd.set_option('display.max_rows', 500)\n",
    "pd.set_option('display.max_columns', 500)\n",
    "pd.set_option('display.width', 1000)"
   ]
  },
  {
   "cell_type": "markdown",
   "metadata": {
    "colab_type": "text",
    "id": "lM-wnXPO-RRF"
   },
   "source": [
    "## Datasets download"
   ]
  },
  {
   "cell_type": "code",
   "execution_count": 0,
   "metadata": {
    "colab": {},
    "colab_type": "code",
    "id": "pPkz3uLjzX9R"
   },
   "outputs": [],
   "source": [
    "auth.authenticate_user()\n",
    "gauth = GoogleAuth()\n",
    "gauth.credentials = GoogleCredentials.get_application_default()\n",
    "drive = GoogleDrive(gauth)"
   ]
  },
  {
   "cell_type": "code",
   "execution_count": 0,
   "metadata": {
    "colab": {
     "base_uri": "https://localhost:8080/",
     "height": 153
    },
    "colab_type": "code",
    "id": "1qAUPUdOzaZ2",
    "outputId": "d3c952ec-b8ea-4ca3-ac78-3a98a6aa3a40"
   },
   "outputs": [
    {
     "name": "stdout",
     "output_type": "stream",
     "text": [
      "title: LU08.ipynb, id: 1DQoWWBwFeaXI6CumEPKT9CpLQ7pCdLIz\n",
      "title: SPAAI, id: 15xHXty3TvHwIS6hSAgt1lq-fXg6H-XaO\n",
      "title: BookCrossing, id: 1UBntfrt6niZGad3p_BbysJGpmKVg7fkq\n",
      "title: Yelp2, id: 1t7_Z9fEp207WlAPIcw8iLChcW71DtINT\n",
      "title: Colab Notebooks, id: 1D1Kjnr4ZJkGlIzTqHV3A7swMZCZdUvn8\n",
      "title: Yelp, id: 1G0-MKdJMIzHCcEnP_8_6Gk3aQKyl_435\n",
      "title: DLSD_Project, id: 1_aiIGyPkP5ojOrZLhMWb2eP-J_ayI_dB\n",
      "title: Getting started, id: 0BzLIx_JXOsMsc3RhcnRlcl9maWxl\n"
     ]
    }
   ],
   "source": [
    "file_list = drive.ListFile({'q': \"'root' in parents and trashed=false\"}).GetList()\n",
    "for file1 in file_list:\n",
    "  print('title: %s, id: %s' % (file1['title'], file1['id']))"
   ]
  },
  {
   "cell_type": "code",
   "execution_count": 0,
   "metadata": {
    "colab": {
     "base_uri": "https://localhost:8080/",
     "height": 357
    },
    "colab_type": "code",
    "id": "iWgpwP4VzcsG",
    "outputId": "b65cd591-3dc4-497a-8a01-7ae741dc37f6"
   },
   "outputs": [
    {
     "name": "stdout",
     "output_type": "stream",
     "text": [
      "title: user_mapping.pickle, id: 1ZVPjsW6wK0qXg3Wh5e2SnQYstk6tFSfp\n",
      "title: business_mapping.pickle, id: 1Oj46ti8KLY4QFH3x8_PORvwOmsXBRPME\n",
      "title: review_enc_30K.csv, id: 1mhSipRAxg3_Nt2bDBqUB1irHbdiqXG9F\n",
      "title: review_enc_20K.csv, id: 1mTdoiOiV4zr8M7PDnOzW42JHtvPy5klF\n",
      "title: review_enc_10K.csv, id: 1XfKApQYeMl4Gl1OOQ-8qfyaC2L9PyXnQ\n",
      "title: review_enc_3M.csv, id: 1_YubYVgKsbpAVhsVEfyORzGWSf_th0EC\n",
      "title: review_enc_1M.csv, id: 1JSzg4xaooCd14JzOWuwybSDXl8fqsRct\n",
      "title: cftest_enc.csv, id: 1aGVcnTfEjdSwIH9ZU5MBveiSjKwrn2BK\n",
      "title: review_enc_100K.csv, id: 17snwxn2nlMba2P6MGoQg5my5yIw9WB-B\n",
      "title: user_enc.csv, id: 1nEtiOwwp_ym08duyybaDrEK9DM4SEem1\n",
      "title: business_enc.csv, id: 1BAHxH3p5NI6PWqI8NGI_GieXfM5fc02F\n",
      "title: review_enc.csv, id: 112uBfXYPtgkS3dIIOkVwxWGj_m6V-UZL\n",
      "title: review_50000.csv, id: 11k1Xl9ijq2qqM-xP-y1qvC-fVMOslZF9\n",
      "title: review_15000.csv, id: 1j_urXqXqw2FA_WlPx-6P55-zlufmzEjg\n",
      "title: review_10000.csv, id: 1g6h0a0LMV-Jkc93z7YnqMF6Id8CShnyG\n",
      "title: review_25000.csv, id: 1TnUcOitaUX_fn8-N0oW8l6L3Wdtb3Kh9\n",
      "title: review_11000.csv, id: 1GM6Fk-tlN8DnDRN8kfaMXx3brE8cgfVx\n",
      "title: review_1000.csv, id: 1tkyp6kkVh_INy7KDsEDeHT2jhilaGrh3\n",
      "title: review_100000.csv, id: 1_geILDVSLU1s7b4GHX1hto7A79P-W5GL\n",
      "title: business.csv, id: 1l3QkzlE-EwBX8UE288ALRcy3ceJnUkyE\n"
     ]
    }
   ],
   "source": [
    "file_list = drive.ListFile({'q': \"'1G0-MKdJMIzHCcEnP_8_6Gk3aQKyl_435' in parents and trashed=false\"}).GetList()\n",
    "for file1 in file_list:\n",
    "  print('title: %s, id: %s' % (file1['title'], file1['id']))"
   ]
  },
  {
   "cell_type": "code",
   "execution_count": 0,
   "metadata": {
    "colab": {
     "base_uri": "https://localhost:8080/",
     "height": 187
    },
    "colab_type": "code",
    "id": "dvGig5fUzf-3",
    "outputId": "00f63a48-9168-49f3-b43f-43a68827170c"
   },
   "outputs": [
    {
     "name": "stdout",
     "output_type": "stream",
     "text": [
      "review_enc_30K.csv\n",
      "review_enc_20K.csv\n",
      "review_enc_10K.csv\n",
      "review_enc_3M.csv\n",
      "review_enc_1M.csv\n",
      "cftest_enc.csv\n",
      "review_enc_100K.csv\n",
      "user_enc.csv\n",
      "business_enc.csv\n",
      "review_enc.csv\n"
     ]
    }
   ],
   "source": [
    "for file1 in file_list:\n",
    "  if('_enc') in file1['title']:\n",
    "    id = file1['id']\n",
    "    fileId = drive.CreateFile({'id': id})\n",
    "\n",
    "    filename = file1['title']\n",
    "    print(filename)\n",
    "    fileId.GetContentFile(filename)  # Save Drive file as a local file"
   ]
  },
  {
   "cell_type": "markdown",
   "metadata": {
    "colab_type": "text",
    "id": "u5Mwa4zl-Lsu"
   },
   "source": [
    "## Loading and parsing datasets"
   ]
  },
  {
   "cell_type": "code",
   "execution_count": 0,
   "metadata": {
    "colab": {
     "base_uri": "https://localhost:8080/",
     "height": 142
    },
    "colab_type": "code",
    "id": "Mzwjw_os3KAa",
    "outputId": "c0f32a7b-3ed1-476b-98d5-a3f9e7802dee"
   },
   "outputs": [
    {
     "data": {
      "text/html": [
       "<div>\n",
       "<style scoped>\n",
       "    .dataframe tbody tr th:only-of-type {\n",
       "        vertical-align: middle;\n",
       "    }\n",
       "\n",
       "    .dataframe tbody tr th {\n",
       "        vertical-align: top;\n",
       "    }\n",
       "\n",
       "    .dataframe thead th {\n",
       "        text-align: right;\n",
       "    }\n",
       "</style>\n",
       "<table border=\"1\" class=\"dataframe\">\n",
       "  <thead>\n",
       "    <tr style=\"text-align: right;\">\n",
       "      <th></th>\n",
       "      <th>user_id</th>\n",
       "      <th>business_id</th>\n",
       "      <th>stars</th>\n",
       "    </tr>\n",
       "  </thead>\n",
       "  <tbody>\n",
       "    <tr>\n",
       "      <th>0</th>\n",
       "      <td>1158189</td>\n",
       "      <td>176750</td>\n",
       "      <td>1.0</td>\n",
       "    </tr>\n",
       "    <tr>\n",
       "      <th>1</th>\n",
       "      <td>1599679</td>\n",
       "      <td>74082</td>\n",
       "      <td>5.0</td>\n",
       "    </tr>\n",
       "    <tr>\n",
       "      <th>2</th>\n",
       "      <td>1307908</td>\n",
       "      <td>100927</td>\n",
       "      <td>5.0</td>\n",
       "    </tr>\n",
       "  </tbody>\n",
       "</table>\n",
       "</div>"
      ],
      "text/plain": [
       "   user_id  business_id  stars\n",
       "0  1158189       176750    1.0\n",
       "1  1599679        74082    5.0\n",
       "2  1307908       100927    5.0"
      ]
     },
     "execution_count": 10,
     "metadata": {
      "tags": []
     },
     "output_type": "execute_result"
    }
   ],
   "source": [
    "ratings_raw_data = pd.read_csv('review_enc_10K.csv')\n",
    "ratings_raw_data_header = ratings_raw_data.columns\n",
    "\n",
    "ratings_data = ratings_raw_data[['user_id', 'business_id', 'stars']]\n",
    "ratings_data.columns = ['user_id', 'business_id', 'stars']\n",
    "\n",
    "ratings_data.head(3)"
   ]
  },
  {
   "cell_type": "code",
   "execution_count": 0,
   "metadata": {
    "colab": {
     "base_uri": "https://localhost:8080/",
     "height": 34
    },
    "colab_type": "code",
    "id": "YUjgWo77ciZW",
    "outputId": "be03a920-f6cf-42a1-fe73-1884db8c492d"
   },
   "outputs": [
    {
     "data": {
      "text/plain": [
       "(10000, 3)"
      ]
     },
     "execution_count": 11,
     "metadata": {
      "tags": []
     },
     "output_type": "execute_result"
    }
   ],
   "source": [
    "ratings_data.shape"
   ]
  },
  {
   "cell_type": "code",
   "execution_count": 0,
   "metadata": {
    "colab": {
     "base_uri": "https://localhost:8080/",
     "height": 564
    },
    "colab_type": "code",
    "id": "F_8SZ9dA4Jtd",
    "outputId": "8766bd98-7f1b-4486-d1d8-13b29b5d5d3c"
   },
   "outputs": [
    {
     "name": "stderr",
     "output_type": "stream",
     "text": [
      "/usr/local/lib/python3.6/dist-packages/IPython/core/interactiveshell.py:2718: DtypeWarning: Columns (6,28,31) have mixed types. Specify dtype option on import or set low_memory=False.\n",
      "  interactivity=interactivity, compiler=compiler, result=result)\n"
     ]
    },
    {
     "data": {
      "text/html": [
       "<div>\n",
       "<style scoped>\n",
       "    .dataframe tbody tr th:only-of-type {\n",
       "        vertical-align: middle;\n",
       "    }\n",
       "\n",
       "    .dataframe tbody tr th {\n",
       "        vertical-align: top;\n",
       "    }\n",
       "\n",
       "    .dataframe thead th {\n",
       "        text-align: right;\n",
       "    }\n",
       "</style>\n",
       "<table border=\"1\" class=\"dataframe\">\n",
       "  <thead>\n",
       "    <tr style=\"text-align: right;\">\n",
       "      <th></th>\n",
       "      <th>address</th>\n",
       "      <th>attributes</th>\n",
       "      <th>attributes_AcceptsInsurance</th>\n",
       "      <th>attributes_AgesAllowed</th>\n",
       "      <th>attributes_Alcohol</th>\n",
       "      <th>attributes_Ambience</th>\n",
       "      <th>attributes_BYOB</th>\n",
       "      <th>attributes_BYOBCorkage</th>\n",
       "      <th>attributes_BestNights</th>\n",
       "      <th>attributes_BikeParking</th>\n",
       "      <th>attributes_BusinessAcceptsBitcoin</th>\n",
       "      <th>attributes_BusinessAcceptsCreditCards</th>\n",
       "      <th>attributes_BusinessParking</th>\n",
       "      <th>attributes_ByAppointmentOnly</th>\n",
       "      <th>attributes_Caters</th>\n",
       "      <th>attributes_CoatCheck</th>\n",
       "      <th>attributes_Corkage</th>\n",
       "      <th>attributes_DietaryRestrictions</th>\n",
       "      <th>attributes_DogsAllowed</th>\n",
       "      <th>attributes_DriveThru</th>\n",
       "      <th>attributes_GoodForDancing</th>\n",
       "      <th>attributes_GoodForKids</th>\n",
       "      <th>attributes_GoodForMeal</th>\n",
       "      <th>attributes_HairSpecializesIn</th>\n",
       "      <th>attributes_HappyHour</th>\n",
       "      <th>attributes_HasTV</th>\n",
       "      <th>attributes_Music</th>\n",
       "      <th>attributes_NoiseLevel</th>\n",
       "      <th>attributes_Open24Hours</th>\n",
       "      <th>attributes_OutdoorSeating</th>\n",
       "      <th>attributes_RestaurantsAttire</th>\n",
       "      <th>attributes_RestaurantsCounterService</th>\n",
       "      <th>attributes_RestaurantsDelivery</th>\n",
       "      <th>attributes_RestaurantsGoodForGroups</th>\n",
       "      <th>attributes_RestaurantsPriceRange2</th>\n",
       "      <th>attributes_RestaurantsReservations</th>\n",
       "      <th>attributes_RestaurantsTableService</th>\n",
       "      <th>attributes_RestaurantsTakeOut</th>\n",
       "      <th>attributes_Smoking</th>\n",
       "      <th>attributes_WheelchairAccessible</th>\n",
       "      <th>attributes_WiFi</th>\n",
       "      <th>categories</th>\n",
       "      <th>city</th>\n",
       "      <th>hours</th>\n",
       "      <th>hours_Friday</th>\n",
       "      <th>hours_Monday</th>\n",
       "      <th>hours_Saturday</th>\n",
       "      <th>hours_Sunday</th>\n",
       "      <th>hours_Thursday</th>\n",
       "      <th>hours_Tuesday</th>\n",
       "      <th>hours_Wednesday</th>\n",
       "      <th>is_open</th>\n",
       "      <th>latitude</th>\n",
       "      <th>longitude</th>\n",
       "      <th>name</th>\n",
       "      <th>postal_code</th>\n",
       "      <th>review_count</th>\n",
       "      <th>stars</th>\n",
       "      <th>state</th>\n",
       "      <th>business_id</th>\n",
       "    </tr>\n",
       "  </thead>\n",
       "  <tbody>\n",
       "    <tr>\n",
       "      <th>0</th>\n",
       "      <td>2818 E Camino Acequia Drive</td>\n",
       "      <td>NaN</td>\n",
       "      <td>NaN</td>\n",
       "      <td>NaN</td>\n",
       "      <td>NaN</td>\n",
       "      <td>NaN</td>\n",
       "      <td>NaN</td>\n",
       "      <td>NaN</td>\n",
       "      <td>NaN</td>\n",
       "      <td>NaN</td>\n",
       "      <td>NaN</td>\n",
       "      <td>NaN</td>\n",
       "      <td>NaN</td>\n",
       "      <td>NaN</td>\n",
       "      <td>NaN</td>\n",
       "      <td>NaN</td>\n",
       "      <td>NaN</td>\n",
       "      <td>NaN</td>\n",
       "      <td>NaN</td>\n",
       "      <td>NaN</td>\n",
       "      <td>NaN</td>\n",
       "      <td>False</td>\n",
       "      <td>NaN</td>\n",
       "      <td>NaN</td>\n",
       "      <td>NaN</td>\n",
       "      <td>NaN</td>\n",
       "      <td>NaN</td>\n",
       "      <td>NaN</td>\n",
       "      <td>NaN</td>\n",
       "      <td>NaN</td>\n",
       "      <td>NaN</td>\n",
       "      <td>NaN</td>\n",
       "      <td>NaN</td>\n",
       "      <td>NaN</td>\n",
       "      <td>NaN</td>\n",
       "      <td>NaN</td>\n",
       "      <td>NaN</td>\n",
       "      <td>NaN</td>\n",
       "      <td>NaN</td>\n",
       "      <td>NaN</td>\n",
       "      <td>NaN</td>\n",
       "      <td>Golf, Active Life</td>\n",
       "      <td>Phoenix</td>\n",
       "      <td>NaN</td>\n",
       "      <td>NaN</td>\n",
       "      <td>NaN</td>\n",
       "      <td>NaN</td>\n",
       "      <td>NaN</td>\n",
       "      <td>NaN</td>\n",
       "      <td>NaN</td>\n",
       "      <td>NaN</td>\n",
       "      <td>0</td>\n",
       "      <td>33.522143</td>\n",
       "      <td>-112.018481</td>\n",
       "      <td>Arizona Biltmore Golf Club</td>\n",
       "      <td>85016</td>\n",
       "      <td>5</td>\n",
       "      <td>3.0</td>\n",
       "      <td>AZ</td>\n",
       "      <td>7340</td>\n",
       "    </tr>\n",
       "    <tr>\n",
       "      <th>1</th>\n",
       "      <td>30 Eglinton Avenue W</td>\n",
       "      <td>NaN</td>\n",
       "      <td>NaN</td>\n",
       "      <td>NaN</td>\n",
       "      <td>u'full_bar'</td>\n",
       "      <td>{'romantic': False, 'intimate': False, 'classy...</td>\n",
       "      <td>NaN</td>\n",
       "      <td>NaN</td>\n",
       "      <td>NaN</td>\n",
       "      <td>False</td>\n",
       "      <td>NaN</td>\n",
       "      <td>NaN</td>\n",
       "      <td>{'garage': False, 'street': False, 'validated'...</td>\n",
       "      <td>NaN</td>\n",
       "      <td>True</td>\n",
       "      <td>NaN</td>\n",
       "      <td>NaN</td>\n",
       "      <td>NaN</td>\n",
       "      <td>NaN</td>\n",
       "      <td>NaN</td>\n",
       "      <td>NaN</td>\n",
       "      <td>True</td>\n",
       "      <td>{'dessert': False, 'latenight': False, 'lunch'...</td>\n",
       "      <td>NaN</td>\n",
       "      <td>NaN</td>\n",
       "      <td>False</td>\n",
       "      <td>NaN</td>\n",
       "      <td>u'loud'</td>\n",
       "      <td>NaN</td>\n",
       "      <td>False</td>\n",
       "      <td>u'casual'</td>\n",
       "      <td>NaN</td>\n",
       "      <td>False</td>\n",
       "      <td>True</td>\n",
       "      <td>2</td>\n",
       "      <td>True</td>\n",
       "      <td>True</td>\n",
       "      <td>True</td>\n",
       "      <td>NaN</td>\n",
       "      <td>NaN</td>\n",
       "      <td>u'no'</td>\n",
       "      <td>Specialty Food, Restaurants, Dim Sum, Imported...</td>\n",
       "      <td>Mississauga</td>\n",
       "      <td>NaN</td>\n",
       "      <td>9:0-1:0</td>\n",
       "      <td>9:0-0:0</td>\n",
       "      <td>9:0-1:0</td>\n",
       "      <td>9:0-0:0</td>\n",
       "      <td>9:0-0:0</td>\n",
       "      <td>9:0-0:0</td>\n",
       "      <td>9:0-0:0</td>\n",
       "      <td>1</td>\n",
       "      <td>43.605499</td>\n",
       "      <td>-79.652289</td>\n",
       "      <td>Emerald Chinese Restaurant</td>\n",
       "      <td>L5R 3E7</td>\n",
       "      <td>128</td>\n",
       "      <td>2.5</td>\n",
       "      <td>ON</td>\n",
       "      <td>82973</td>\n",
       "    </tr>\n",
       "    <tr>\n",
       "      <th>2</th>\n",
       "      <td>10110 Johnston Rd, Ste 15</td>\n",
       "      <td>NaN</td>\n",
       "      <td>NaN</td>\n",
       "      <td>NaN</td>\n",
       "      <td>u'beer_and_wine'</td>\n",
       "      <td>{'romantic': False, 'intimate': False, 'touris...</td>\n",
       "      <td>NaN</td>\n",
       "      <td>NaN</td>\n",
       "      <td>NaN</td>\n",
       "      <td>True</td>\n",
       "      <td>NaN</td>\n",
       "      <td>True</td>\n",
       "      <td>{'garage': False, 'street': False, 'validated'...</td>\n",
       "      <td>NaN</td>\n",
       "      <td>False</td>\n",
       "      <td>NaN</td>\n",
       "      <td>NaN</td>\n",
       "      <td>NaN</td>\n",
       "      <td>NaN</td>\n",
       "      <td>NaN</td>\n",
       "      <td>NaN</td>\n",
       "      <td>True</td>\n",
       "      <td>{'dessert': False, 'latenight': False, 'lunch'...</td>\n",
       "      <td>NaN</td>\n",
       "      <td>NaN</td>\n",
       "      <td>True</td>\n",
       "      <td>NaN</td>\n",
       "      <td>u'average'</td>\n",
       "      <td>NaN</td>\n",
       "      <td>False</td>\n",
       "      <td>'casual'</td>\n",
       "      <td>NaN</td>\n",
       "      <td>False</td>\n",
       "      <td>True</td>\n",
       "      <td>2</td>\n",
       "      <td>True</td>\n",
       "      <td>True</td>\n",
       "      <td>True</td>\n",
       "      <td>NaN</td>\n",
       "      <td>NaN</td>\n",
       "      <td>u'no'</td>\n",
       "      <td>Sushi Bars, Restaurants, Japanese</td>\n",
       "      <td>Charlotte</td>\n",
       "      <td>NaN</td>\n",
       "      <td>17:30-22:0</td>\n",
       "      <td>17:30-21:30</td>\n",
       "      <td>17:30-22:0</td>\n",
       "      <td>17:30-21:0</td>\n",
       "      <td>17:30-21:30</td>\n",
       "      <td>NaN</td>\n",
       "      <td>17:30-21:30</td>\n",
       "      <td>1</td>\n",
       "      <td>35.092564</td>\n",
       "      <td>-80.859132</td>\n",
       "      <td>Musashi Japanese Restaurant</td>\n",
       "      <td>28210</td>\n",
       "      <td>170</td>\n",
       "      <td>4.0</td>\n",
       "      <td>NC</td>\n",
       "      <td>134808</td>\n",
       "    </tr>\n",
       "    <tr>\n",
       "      <th>3</th>\n",
       "      <td>15655 W Roosevelt St, Ste 237</td>\n",
       "      <td>NaN</td>\n",
       "      <td>NaN</td>\n",
       "      <td>NaN</td>\n",
       "      <td>NaN</td>\n",
       "      <td>NaN</td>\n",
       "      <td>NaN</td>\n",
       "      <td>NaN</td>\n",
       "      <td>NaN</td>\n",
       "      <td>NaN</td>\n",
       "      <td>NaN</td>\n",
       "      <td>NaN</td>\n",
       "      <td>NaN</td>\n",
       "      <td>NaN</td>\n",
       "      <td>NaN</td>\n",
       "      <td>NaN</td>\n",
       "      <td>NaN</td>\n",
       "      <td>NaN</td>\n",
       "      <td>NaN</td>\n",
       "      <td>NaN</td>\n",
       "      <td>NaN</td>\n",
       "      <td>NaN</td>\n",
       "      <td>NaN</td>\n",
       "      <td>NaN</td>\n",
       "      <td>NaN</td>\n",
       "      <td>NaN</td>\n",
       "      <td>NaN</td>\n",
       "      <td>NaN</td>\n",
       "      <td>NaN</td>\n",
       "      <td>NaN</td>\n",
       "      <td>NaN</td>\n",
       "      <td>NaN</td>\n",
       "      <td>NaN</td>\n",
       "      <td>NaN</td>\n",
       "      <td>NaN</td>\n",
       "      <td>NaN</td>\n",
       "      <td>NaN</td>\n",
       "      <td>NaN</td>\n",
       "      <td>NaN</td>\n",
       "      <td>NaN</td>\n",
       "      <td>NaN</td>\n",
       "      <td>Insurance, Financial Services</td>\n",
       "      <td>Goodyear</td>\n",
       "      <td>NaN</td>\n",
       "      <td>8:0-17:0</td>\n",
       "      <td>8:0-17:0</td>\n",
       "      <td>NaN</td>\n",
       "      <td>NaN</td>\n",
       "      <td>8:0-17:0</td>\n",
       "      <td>8:0-17:0</td>\n",
       "      <td>8:0-17:0</td>\n",
       "      <td>1</td>\n",
       "      <td>33.455613</td>\n",
       "      <td>-112.395596</td>\n",
       "      <td>Farmers Insurance - Paul Lorenz</td>\n",
       "      <td>85338</td>\n",
       "      <td>3</td>\n",
       "      <td>5.0</td>\n",
       "      <td>AZ</td>\n",
       "      <td>186365</td>\n",
       "    </tr>\n",
       "    <tr>\n",
       "      <th>4</th>\n",
       "      <td>4209 Stuart Andrew Blvd, Ste F</td>\n",
       "      <td>NaN</td>\n",
       "      <td>NaN</td>\n",
       "      <td>NaN</td>\n",
       "      <td>NaN</td>\n",
       "      <td>NaN</td>\n",
       "      <td>NaN</td>\n",
       "      <td>NaN</td>\n",
       "      <td>NaN</td>\n",
       "      <td>NaN</td>\n",
       "      <td>False</td>\n",
       "      <td>True</td>\n",
       "      <td>NaN</td>\n",
       "      <td>True</td>\n",
       "      <td>NaN</td>\n",
       "      <td>NaN</td>\n",
       "      <td>NaN</td>\n",
       "      <td>NaN</td>\n",
       "      <td>NaN</td>\n",
       "      <td>NaN</td>\n",
       "      <td>NaN</td>\n",
       "      <td>NaN</td>\n",
       "      <td>NaN</td>\n",
       "      <td>NaN</td>\n",
       "      <td>NaN</td>\n",
       "      <td>NaN</td>\n",
       "      <td>NaN</td>\n",
       "      <td>NaN</td>\n",
       "      <td>NaN</td>\n",
       "      <td>NaN</td>\n",
       "      <td>NaN</td>\n",
       "      <td>NaN</td>\n",
       "      <td>NaN</td>\n",
       "      <td>NaN</td>\n",
       "      <td>NaN</td>\n",
       "      <td>NaN</td>\n",
       "      <td>NaN</td>\n",
       "      <td>NaN</td>\n",
       "      <td>NaN</td>\n",
       "      <td>NaN</td>\n",
       "      <td>NaN</td>\n",
       "      <td>Plumbing, Shopping, Local Services, Home Servi...</td>\n",
       "      <td>Charlotte</td>\n",
       "      <td>NaN</td>\n",
       "      <td>7:0-23:0</td>\n",
       "      <td>7:0-23:0</td>\n",
       "      <td>7:0-23:0</td>\n",
       "      <td>7:0-23:0</td>\n",
       "      <td>7:0-23:0</td>\n",
       "      <td>7:0-23:0</td>\n",
       "      <td>7:0-23:0</td>\n",
       "      <td>1</td>\n",
       "      <td>35.190012</td>\n",
       "      <td>-80.887223</td>\n",
       "      <td>Queen City Plumbing</td>\n",
       "      <td>28217</td>\n",
       "      <td>4</td>\n",
       "      <td>4.0</td>\n",
       "      <td>NC</td>\n",
       "      <td>56458</td>\n",
       "    </tr>\n",
       "  </tbody>\n",
       "</table>\n",
       "</div>"
      ],
      "text/plain": [
       "                          address  attributes attributes_AcceptsInsurance attributes_AgesAllowed attributes_Alcohol                                attributes_Ambience attributes_BYOB attributes_BYOBCorkage attributes_BestNights attributes_BikeParking attributes_BusinessAcceptsBitcoin attributes_BusinessAcceptsCreditCards                         attributes_BusinessParking attributes_ByAppointmentOnly attributes_Caters attributes_CoatCheck attributes_Corkage attributes_DietaryRestrictions attributes_DogsAllowed attributes_DriveThru attributes_GoodForDancing attributes_GoodForKids                             attributes_GoodForMeal attributes_HairSpecializesIn attributes_HappyHour attributes_HasTV attributes_Music attributes_NoiseLevel attributes_Open24Hours attributes_OutdoorSeating attributes_RestaurantsAttire attributes_RestaurantsCounterService attributes_RestaurantsDelivery attributes_RestaurantsGoodForGroups attributes_RestaurantsPriceRange2 attributes_RestaurantsReservations  \\\n",
       "0     2818 E Camino Acequia Drive         NaN                         NaN                    NaN                NaN                                                NaN             NaN                    NaN                   NaN                    NaN                               NaN                                   NaN                                                NaN                          NaN               NaN                  NaN                NaN                            NaN                    NaN                  NaN                       NaN                  False                                                NaN                          NaN                  NaN              NaN              NaN                   NaN                    NaN                       NaN                          NaN                                  NaN                            NaN                                 NaN                               NaN                                NaN   \n",
       "1            30 Eglinton Avenue W         NaN                         NaN                    NaN        u'full_bar'  {'romantic': False, 'intimate': False, 'classy...             NaN                    NaN                   NaN                  False                               NaN                                   NaN  {'garage': False, 'street': False, 'validated'...                          NaN              True                  NaN                NaN                            NaN                    NaN                  NaN                       NaN                   True  {'dessert': False, 'latenight': False, 'lunch'...                          NaN                  NaN            False              NaN               u'loud'                    NaN                     False                    u'casual'                                  NaN                          False                                True                                 2                               True   \n",
       "2       10110 Johnston Rd, Ste 15         NaN                         NaN                    NaN   u'beer_and_wine'  {'romantic': False, 'intimate': False, 'touris...             NaN                    NaN                   NaN                   True                               NaN                                  True  {'garage': False, 'street': False, 'validated'...                          NaN             False                  NaN                NaN                            NaN                    NaN                  NaN                       NaN                   True  {'dessert': False, 'latenight': False, 'lunch'...                          NaN                  NaN             True              NaN            u'average'                    NaN                     False                     'casual'                                  NaN                          False                                True                                 2                               True   \n",
       "3   15655 W Roosevelt St, Ste 237         NaN                         NaN                    NaN                NaN                                                NaN             NaN                    NaN                   NaN                    NaN                               NaN                                   NaN                                                NaN                          NaN               NaN                  NaN                NaN                            NaN                    NaN                  NaN                       NaN                    NaN                                                NaN                          NaN                  NaN              NaN              NaN                   NaN                    NaN                       NaN                          NaN                                  NaN                            NaN                                 NaN                               NaN                                NaN   \n",
       "4  4209 Stuart Andrew Blvd, Ste F         NaN                         NaN                    NaN                NaN                                                NaN             NaN                    NaN                   NaN                    NaN                             False                                  True                                                NaN                         True               NaN                  NaN                NaN                            NaN                    NaN                  NaN                       NaN                    NaN                                                NaN                          NaN                  NaN              NaN              NaN                   NaN                    NaN                       NaN                          NaN                                  NaN                            NaN                                 NaN                               NaN                                NaN   \n",
       "\n",
       "  attributes_RestaurantsTableService attributes_RestaurantsTakeOut attributes_Smoking attributes_WheelchairAccessible attributes_WiFi                                         categories         city  hours hours_Friday hours_Monday hours_Saturday hours_Sunday hours_Thursday hours_Tuesday hours_Wednesday  is_open   latitude   longitude                             name postal_code  review_count  stars state  business_id  \n",
       "0                                NaN                           NaN                NaN                             NaN             NaN                                  Golf, Active Life      Phoenix    NaN          NaN          NaN            NaN          NaN            NaN           NaN             NaN        0  33.522143 -112.018481       Arizona Biltmore Golf Club       85016             5    3.0    AZ         7340  \n",
       "1                               True                          True                NaN                             NaN           u'no'  Specialty Food, Restaurants, Dim Sum, Imported...  Mississauga    NaN      9:0-1:0      9:0-0:0        9:0-1:0      9:0-0:0        9:0-0:0       9:0-0:0         9:0-0:0        1  43.605499  -79.652289       Emerald Chinese Restaurant     L5R 3E7           128    2.5    ON        82973  \n",
       "2                               True                          True                NaN                             NaN           u'no'                  Sushi Bars, Restaurants, Japanese    Charlotte    NaN   17:30-22:0  17:30-21:30     17:30-22:0   17:30-21:0    17:30-21:30           NaN     17:30-21:30        1  35.092564  -80.859132      Musashi Japanese Restaurant       28210           170    4.0    NC       134808  \n",
       "3                                NaN                           NaN                NaN                             NaN             NaN                      Insurance, Financial Services     Goodyear    NaN     8:0-17:0     8:0-17:0            NaN          NaN       8:0-17:0      8:0-17:0        8:0-17:0        1  33.455613 -112.395596  Farmers Insurance - Paul Lorenz       85338             3    5.0    AZ       186365  \n",
       "4                                NaN                           NaN                NaN                             NaN             NaN  Plumbing, Shopping, Local Services, Home Servi...    Charlotte    NaN     7:0-23:0     7:0-23:0       7:0-23:0     7:0-23:0       7:0-23:0      7:0-23:0        7:0-23:0        1  35.190012  -80.887223              Queen City Plumbing       28217             4    4.0    NC        56458  "
      ]
     },
     "execution_count": 12,
     "metadata": {
      "tags": []
     },
     "output_type": "execute_result"
    }
   ],
   "source": [
    "business_raw_data = pd.read_csv('business_enc.csv', encoding = \"latin-1\")\n",
    "business_raw_data_header = business_raw_data.columns\n",
    "\n",
    "business_data = business_raw_data.replace(to_replace='None', value=np.nan)\n",
    "\n",
    "business_raw_data.head()"
   ]
  },
  {
   "cell_type": "code",
   "execution_count": 0,
   "metadata": {
    "colab": {
     "base_uri": "https://localhost:8080/",
     "height": 34
    },
    "colab_type": "code",
    "id": "E-2P22CCcof1",
    "outputId": "1d77626e-2410-48c9-a288-0c61d56610f6"
   },
   "outputs": [
    {
     "data": {
      "text/plain": [
       "(192609, 60)"
      ]
     },
     "execution_count": 13,
     "metadata": {
      "tags": []
     },
     "output_type": "execute_result"
    }
   ],
   "source": [
    "business_data.shape"
   ]
  },
  {
   "cell_type": "code",
   "execution_count": 0,
   "metadata": {
    "colab": {
     "base_uri": "https://localhost:8080/",
     "height": 204
    },
    "colab_type": "code",
    "id": "iB9jNRIxxeJh",
    "outputId": "f6b789f1-172a-4259-87f8-2a2bc4675de5"
   },
   "outputs": [
    {
     "data": {
      "text/html": [
       "<div>\n",
       "<style scoped>\n",
       "    .dataframe tbody tr th:only-of-type {\n",
       "        vertical-align: middle;\n",
       "    }\n",
       "\n",
       "    .dataframe tbody tr th {\n",
       "        vertical-align: top;\n",
       "    }\n",
       "\n",
       "    .dataframe thead th {\n",
       "        text-align: right;\n",
       "    }\n",
       "</style>\n",
       "<table border=\"1\" class=\"dataframe\">\n",
       "  <thead>\n",
       "    <tr style=\"text-align: right;\">\n",
       "      <th></th>\n",
       "      <th>user_id</th>\n",
       "      <th>name</th>\n",
       "      <th>review_count</th>\n",
       "      <th>yelping_since</th>\n",
       "      <th>useful</th>\n",
       "      <th>fans</th>\n",
       "      <th>average_stars</th>\n",
       "    </tr>\n",
       "  </thead>\n",
       "  <tbody>\n",
       "    <tr>\n",
       "      <th>0</th>\n",
       "      <td>1256813</td>\n",
       "      <td>Rashmi</td>\n",
       "      <td>95</td>\n",
       "      <td>2013-10-08 23:11:33</td>\n",
       "      <td>84</td>\n",
       "      <td>5</td>\n",
       "      <td>4.03</td>\n",
       "    </tr>\n",
       "    <tr>\n",
       "      <th>1</th>\n",
       "      <td>141378</td>\n",
       "      <td>Jenna</td>\n",
       "      <td>33</td>\n",
       "      <td>2013-02-21 22:29:06</td>\n",
       "      <td>48</td>\n",
       "      <td>4</td>\n",
       "      <td>3.63</td>\n",
       "    </tr>\n",
       "    <tr>\n",
       "      <th>2</th>\n",
       "      <td>1013852</td>\n",
       "      <td>David</td>\n",
       "      <td>16</td>\n",
       "      <td>2013-10-04 00:16:10</td>\n",
       "      <td>28</td>\n",
       "      <td>0</td>\n",
       "      <td>3.71</td>\n",
       "    </tr>\n",
       "    <tr>\n",
       "      <th>3</th>\n",
       "      <td>1054713</td>\n",
       "      <td>Angela</td>\n",
       "      <td>17</td>\n",
       "      <td>2014-05-22 15:57:30</td>\n",
       "      <td>30</td>\n",
       "      <td>5</td>\n",
       "      <td>4.85</td>\n",
       "    </tr>\n",
       "    <tr>\n",
       "      <th>4</th>\n",
       "      <td>596783</td>\n",
       "      <td>Nancy</td>\n",
       "      <td>361</td>\n",
       "      <td>2013-10-23 07:02:50</td>\n",
       "      <td>1114</td>\n",
       "      <td>39</td>\n",
       "      <td>4.08</td>\n",
       "    </tr>\n",
       "  </tbody>\n",
       "</table>\n",
       "</div>"
      ],
      "text/plain": [
       "   user_id    name  review_count        yelping_since  useful  fans  average_stars\n",
       "0  1256813  Rashmi            95  2013-10-08 23:11:33      84     5           4.03\n",
       "1   141378   Jenna            33  2013-02-21 22:29:06      48     4           3.63\n",
       "2  1013852   David            16  2013-10-04 00:16:10      28     0           3.71\n",
       "3  1054713  Angela            17  2014-05-22 15:57:30      30     5           4.85\n",
       "4   596783   Nancy           361  2013-10-23 07:02:50    1114    39           4.08"
      ]
     },
     "execution_count": 14,
     "metadata": {
      "tags": []
     },
     "output_type": "execute_result"
    }
   ],
   "source": [
    "user_raw_data = pd.read_csv('user_enc.csv')\n",
    "user_raw_data_header = user_raw_data.columns\n",
    "\n",
    "user_data = user_raw_data[['user_id', 'name']]\n",
    "\n",
    "user_raw_data.head()"
   ]
  },
  {
   "cell_type": "code",
   "execution_count": 0,
   "metadata": {
    "colab": {
     "base_uri": "https://localhost:8080/",
     "height": 34
    },
    "colab_type": "code",
    "id": "CUYhrR8rxrgZ",
    "outputId": "995ffdec-41be-4146-d069-974112525f72"
   },
   "outputs": [
    {
     "data": {
      "text/plain": [
       "(1637138, 2)"
      ]
     },
     "execution_count": 15,
     "metadata": {
      "tags": []
     },
     "output_type": "execute_result"
    }
   ],
   "source": [
    "user_data.shape"
   ]
  },
  {
   "cell_type": "markdown",
   "metadata": {
    "colab_type": "text",
    "id": "FxKtmD4Fi552"
   },
   "source": [
    "## Data Cleaning"
   ]
  },
  {
   "cell_type": "code",
   "execution_count": 0,
   "metadata": {
    "colab": {
     "base_uri": "https://localhost:8080/",
     "height": 51
    },
    "colab_type": "code",
    "id": "No_vcXf_pCU8",
    "outputId": "b224ad87-fdaa-43cf-bd4a-84436d759c54"
   },
   "outputs": [
    {
     "name": "stdout",
     "output_type": "stream",
     "text": [
      "Before: (10000, 3)\n",
      "After: (9991, 3)\n"
     ]
    }
   ],
   "source": [
    "ratings_data_nodup = ratings_data.drop_duplicates()\n",
    "\n",
    "print(\"Before:\", ratings_data.shape)\n",
    "print(\"After:\", ratings_data_nodup.shape)"
   ]
  },
  {
   "cell_type": "code",
   "execution_count": 0,
   "metadata": {
    "colab": {
     "base_uri": "https://localhost:8080/",
     "height": 34
    },
    "colab_type": "code",
    "id": "QLCCRtj5sK4U",
    "outputId": "5ebea5b4-4b88-40c3-f457-44a1b7762577"
   },
   "outputs": [
    {
     "name": "stdout",
     "output_type": "stream",
     "text": [
      "(array([], dtype=int64),)\n"
     ]
    }
   ],
   "source": [
    "idx_dup = np.where(ratings_data_nodup.index.duplicated())\n",
    "print(idx_dup)"
   ]
  },
  {
   "cell_type": "code",
   "execution_count": 0,
   "metadata": {
    "colab": {
     "base_uri": "https://localhost:8080/",
     "height": 34
    },
    "colab_type": "code",
    "id": "onKHRpRldKIX",
    "outputId": "7ce552c0-9040-4cbd-92b8-bbb6bb2d5312"
   },
   "outputs": [
    {
     "name": "stdout",
     "output_type": "stream",
     "text": [
      "9366\n"
     ]
    }
   ],
   "source": [
    "#Filter records for users who have rated at least 5 businesses\n",
    "user_rating_counts = ratings_data_nodup['user_id'].value_counts()\n",
    "print(user_rating_counts.shape[0])"
   ]
  },
  {
   "cell_type": "code",
   "execution_count": 0,
   "metadata": {
    "colab": {
     "base_uri": "https://localhost:8080/",
     "height": 34
    },
    "colab_type": "code",
    "id": "-nhWV6cMfCxp",
    "outputId": "3505d16f-168a-4937-f207-a1e56524875b"
   },
   "outputs": [
    {
     "name": "stdout",
     "output_type": "stream",
     "text": [
      "4618\n"
     ]
    }
   ],
   "source": [
    "#Filter records for businesses who have rated at least 5 ratings\n",
    "business_rating_counts = ratings_data_nodup['business_id'].value_counts()\n",
    "print(business_rating_counts.shape[0])"
   ]
  },
  {
   "cell_type": "code",
   "execution_count": 0,
   "metadata": {
    "colab": {
     "base_uri": "https://localhost:8080/",
     "height": 119
    },
    "colab_type": "code",
    "id": "B8kVwp4ltI3y",
    "outputId": "83a5fedb-83fe-4976-ee07-85a77a47a8ce"
   },
   "outputs": [
    {
     "data": {
      "text/plain": [
       "5.0    4418\n",
       "4.0    2177\n",
       "1.0    1527\n",
       "3.0    1069\n",
       "2.0     800\n",
       "Name: stars, dtype: int64"
      ]
     },
     "execution_count": 20,
     "metadata": {
      "tags": []
     },
     "output_type": "execute_result"
    }
   ],
   "source": [
    "rating_counts = ratings_data_nodup['stars'].value_counts()\n",
    "rating_counts"
   ]
  },
  {
   "cell_type": "markdown",
   "metadata": {
    "colab_type": "text",
    "id": "NypHQwpusRZr"
   },
   "source": [
    "## Dataset Presentation"
   ]
  },
  {
   "cell_type": "code",
   "execution_count": 0,
   "metadata": {
    "colab": {},
    "colab_type": "code",
    "id": "6Q7vjcxunoFb"
   },
   "outputs": [],
   "source": [
    "ratings_dict = {'itemID': list(ratings_data_nodup.business_id),\n",
    "                'userID': list(ratings_data_nodup.user_id),\n",
    "                'rating': list(ratings_data_nodup.stars)}\n",
    "df = pd.DataFrame(ratings_dict)"
   ]
  },
  {
   "cell_type": "markdown",
   "metadata": {
    "colab_type": "text",
    "id": "I4mJ4NNZf_8I"
   },
   "source": [
    "## Scikit-SurpriseLib"
   ]
  },
  {
   "cell_type": "markdown",
   "metadata": {
    "colab_type": "text",
    "id": "hkkYWcMP7Yrp"
   },
   "source": [
    "### Train/Test Split"
   ]
  },
  {
   "cell_type": "code",
   "execution_count": 0,
   "metadata": {
    "colab": {},
    "colab_type": "code",
    "id": "_BV-ORLN1hQA"
   },
   "outputs": [],
   "source": [
    "reader = Reader(rating_scale=(0.5, 5.0))\n",
    "\n",
    "data = Dataset.load_from_df(df[['userID', 'itemID', 'rating']], reader)\n",
    "\n",
    "trainset = data.build_full_trainset()"
   ]
  },
  {
   "cell_type": "code",
   "execution_count": 0,
   "metadata": {
    "colab": {
     "base_uri": "https://localhost:8080/",
     "height": 51
    },
    "colab_type": "code",
    "id": "WNiUOODm8Cqa",
    "outputId": "d5e20d1a-c34c-46ab-f333-3404897c8d19"
   },
   "outputs": [
    {
     "name": "stdout",
     "output_type": "stream",
     "text": [
      "Number of Businesses: 4618\n",
      "Number of Users: 9366\n"
     ]
    }
   ],
   "source": [
    "print(\"Number of Businesses:\", trainset.n_items)\n",
    "print(\"Number of Users:\", trainset.n_users)"
   ]
  },
  {
   "cell_type": "code",
   "execution_count": 0,
   "metadata": {
    "colab": {},
    "colab_type": "code",
    "id": "PotM02YE4XhH"
   },
   "outputs": [],
   "source": [
    "training, test = surprise_tts(data, test_size=.2)\n",
    "test_for_predict = test"
   ]
  },
  {
   "cell_type": "markdown",
   "metadata": {
    "colab_type": "text",
    "id": "7aQqqKuM-CW-"
   },
   "source": [
    "### Collaborative Filtering"
   ]
  },
  {
   "cell_type": "code",
   "execution_count": 0,
   "metadata": {
    "colab": {
     "base_uri": "https://localhost:8080/",
     "height": 425
    },
    "colab_type": "code",
    "id": "XsNP1HzY_ys8",
    "outputId": "696dce19-5efd-4056-af03-bf928fde7b04"
   },
   "outputs": [
    {
     "name": "stdout",
     "output_type": "stream",
     "text": [
      "RMSE: 1.4733\n",
      "Algo: KNNBasic, similarity metric: cosine, RMSE: 1.473314935577257\n",
      "RMSE: 1.4739\n",
      "Algo: KNNBasic, similarity metric: pearson, RMSE: 1.4738796557934557\n",
      "RMSE: 1.4733\n",
      "Algo: KNNBasic, similarity metric: msd, RMSE: 1.473314935577257\n",
      "RMSE: 1.4739\n",
      "Algo: KNNBasic, similarity metric: pearson_baseline, RMSE: 1.4738796557934557\n",
      "RMSE: 1.4932\n",
      "Algo: KNNWithMeans, similarity metric: cosine, RMSE: 1.4932031581304874\n",
      "RMSE: 1.4936\n",
      "Algo: KNNWithMeans, similarity metric: pearson, RMSE: 1.4935800059696343\n",
      "RMSE: 1.4932\n",
      "Algo: KNNWithMeans, similarity metric: msd, RMSE: 1.4932031581304874\n",
      "RMSE: 1.4936\n",
      "Algo: KNNWithMeans, similarity metric: pearson_baseline, RMSE: 1.4935800059696343\n",
      "RMSE: 1.4931\n",
      "Algo: KNNWithZScore, similarity metric: cosine, RMSE: 1.4930825798422611\n",
      "RMSE: 1.4936\n",
      "Algo: KNNWithZScore, similarity metric: pearson, RMSE: 1.4935800059696343\n",
      "RMSE: 1.4931\n",
      "Algo: KNNWithZScore, similarity metric: msd, RMSE: 1.4930825798422611\n",
      "RMSE: 1.4936\n",
      "Algo: KNNWithZScore, similarity metric: pearson_baseline, RMSE: 1.4935800059696343\n"
     ]
    }
   ],
   "source": [
    "for Algo in [\"KNNBasic\", 'KNNWithMeans', 'KNNWithZScore']:\n",
    "  \n",
    "  for sim_metric in [ 'cosine', 'pearson', 'msd', 'pearson_baseline']:\n",
    "\n",
    "    sim_options = {'name': sim_metric,\n",
    "                   'user_based': True  # compute  similarities between users\n",
    "                   }\n",
    "\n",
    "    if(Algo == \"KNNBasic\"):\n",
    "      model_user = KNNBasic(sim_options=sim_options, verbose=False)\n",
    "    elif(Algo == \"KNNWithMeans\"):\n",
    "      model_user = KNNWithMeans(sim_options=sim_options, verbose=False)\n",
    "    elif(Algo == \"KNNWithZScore\"):\n",
    "      model_user = KNNWithZScore(sim_options=sim_options, verbose=False)\n",
    "    \n",
    "    model_user.fit(training)\n",
    "\n",
    "    predictions_user = model_user.test(test_for_predict)\n",
    "\n",
    "    # Then compute RMSE\n",
    "    error_user = accuracy.rmse(predictions_user)\n",
    "\n",
    "    # best RMSE score\n",
    "    print('Algo: {}, similarity metric: {}, RMSE: {}'.format(Algo, sim_metric, error_user))"
   ]
  },
  {
   "cell_type": "markdown",
   "metadata": {
    "colab_type": "text",
    "id": "ozjlF4967HdU"
   },
   "source": [
    "### Matrix Factorization"
   ]
  },
  {
   "cell_type": "code",
   "execution_count": 0,
   "metadata": {
    "colab": {
     "base_uri": "https://localhost:8080/",
     "height": 119
    },
    "colab_type": "code",
    "id": "isOt4VT2mF7a",
    "outputId": "9855200f-a0c4-44c9-8785-01cd75f74ed7"
   },
   "outputs": [
    {
     "name": "stdout",
     "output_type": "stream",
     "text": [
      "RMSE: 1.4300\n",
      "Algo: SVD, RMSE: 1.430005490798664\n",
      "RMSE: 1.4251\n",
      "Algo: SVDpp, RMSE: 1.4251121726087237\n",
      "RMSE: 1.4995\n",
      "Algo: NMF, RMSE: 1.4995359743418488\n"
     ]
    }
   ],
   "source": [
    "for Algo in [\"SVD\", 'SVDpp', 'NMF']:\n",
    "  \n",
    "    if(Algo == \"SVD\"):\n",
    "      model_MF = SVD()\n",
    "    elif(Algo == \"SVDpp\"):\n",
    "      model_MF = SVDpp()\n",
    "    elif(Algo == \"NMF\"):\n",
    "      model_MF = NMF()\n",
    "    elif(Algo == \"ALS\"):\n",
    "      bsl_options = {'method': 'als',\n",
    "                      'n_epochs': 5,\n",
    "                      'reg_u': 12,\n",
    "                      'reg_i': 5 }\n",
    "      model_MF = BaselineOnly(bsl_options=bsl_options)\n",
    "      \n",
    "    model = model_MF\n",
    "    model.fit(training)\n",
    "    predictions = model.test(test_for_predict)\n",
    "\n",
    "    # Then compute RMSE\n",
    "    error = accuracy.rmse(predictions)\n",
    "\n",
    "    # best RMSE score\n",
    "    print('Algo: {}, RMSE: {}'.format(Algo, error))"
   ]
  },
  {
   "cell_type": "code",
   "execution_count": 0,
   "metadata": {
    "colab": {
     "base_uri": "https://localhost:8080/",
     "height": 68
    },
    "colab_type": "code",
    "id": "eU-cHJhk4hAL",
    "outputId": "d498c583-adc6-4e57-ed1f-70ad8e69c3ab"
   },
   "outputs": [
    {
     "name": "stdout",
     "output_type": "stream",
     "text": [
      "The best model was trained with {'n_epochs': 40, 'lr_all': 0.01, 'reg_all': 0.2}\n",
      "RMSE: 1.4182\n",
      "For testing data the RMSE is 1.4181911761433839\n"
     ]
    }
   ],
   "source": [
    "param_grid = {'n_epochs': [10, 20, 40], 'lr_all': [0.002, 0.005, 0.01],\n",
    "              'reg_all': [0.1, 0.2, 0.4]}\n",
    "\n",
    "model = SVDpp\n",
    "gs = GridSearchCV(model, param_grid, measures=['rmse'], cv=3)\n",
    "\n",
    "gs.fit(data)\n",
    "\n",
    "print('The best model was trained with %s' % gs.best_params['rmse'])\n",
    "\n",
    "model = gs.best_estimator['rmse']\n",
    "model.fit(training)\n",
    "predictions = model.test(test_for_predict)\n",
    "\n",
    "# Then compute RMSE\n",
    "error = accuracy.rmse(predictions)\n",
    "\n",
    "# best RMSE score\n",
    "print('For testing data the RMSE is %s' % (error))"
   ]
  },
  {
   "cell_type": "markdown",
   "metadata": {
    "colab_type": "text",
    "id": "nXUIoag1tZxI"
   },
   "source": [
    "## Spark ML"
   ]
  },
  {
   "cell_type": "markdown",
   "metadata": {
    "colab_type": "text",
    "id": "BWq-tKm0taiU"
   },
   "source": [
    "### Train/Test split"
   ]
  },
  {
   "cell_type": "code",
   "execution_count": 0,
   "metadata": {
    "colab": {},
    "colab_type": "code",
    "id": "NNxs8Vt82VVT"
   },
   "outputs": [],
   "source": [
    "from pyspark.sql import SparkSession\n",
    "\n",
    "spark = SparkSession \\\n",
    "     .builder \\\n",
    "     .master(\"local[*]\") \\\n",
    "     .config(\"spark.executor.memory\", \"4g\") \\\n",
    "     .config(\"spark.driver.memory\", \"4g\") \\\n",
    "     .config(\"spark.memory.offHeap.enabled\",True) \\\n",
    "     .config(\"spark.memory.offHeap.size\",\"4g\") \\\n",
    "     .appName(\"rec\") \\\n",
    "     .getOrCreate()"
   ]
  },
  {
   "cell_type": "code",
   "execution_count": 0,
   "metadata": {
    "colab": {},
    "colab_type": "code",
    "id": "qFaTATZe_CU2"
   },
   "outputs": [],
   "source": [
    "ratings_raw_data = spark.read.csv('review_enc_10K.csv',inferSchema=True,header=True)\n",
    "ratings_raw_data_header = ratings_raw_data.columns\n",
    "\n",
    "ratings_data = ratings_raw_data[['user_id', 'business_id', 'stars']]"
   ]
  },
  {
   "cell_type": "code",
   "execution_count": 0,
   "metadata": {
    "colab": {},
    "colab_type": "code",
    "id": "cQQKFORctblp"
   },
   "outputs": [],
   "source": [
    "training, validation, test = ratings_data.randomSplit([0.6, 0.2, 0.2], seed=0)"
   ]
  },
  {
   "cell_type": "markdown",
   "metadata": {
    "colab_type": "text",
    "id": "0eG4DDyTuBac"
   },
   "source": [
    "### Matrix Factorization"
   ]
  },
  {
   "cell_type": "code",
   "execution_count": 0,
   "metadata": {
    "colab": {
     "base_uri": "https://localhost:8080/",
     "height": 102
    },
    "colab_type": "code",
    "id": "bd-N2jY5tbl8",
    "outputId": "fc6dee8d-a19e-4faf-be64-8330c897f803"
   },
   "outputs": [
    {
     "name": "stdout",
     "output_type": "stream",
     "text": [
      "For rank 4 the RMSE is 4.21255973560481\n",
      "For rank 8 the RMSE is 4.212133766200419\n",
      "For rank 10 the RMSE is 4.211716778894937\n",
      "For rank 12 the RMSE is 4.2117295975393905\n",
      "The best model was trained with rank 10\n"
     ]
    }
   ],
   "source": [
    "seed = 5\n",
    "iterations = 25\n",
    "regularization_parameter = 5.0\n",
    "ranks = [4, 8, 10, 12]\n",
    "errors = [0, 0, 0, 0]\n",
    "err = 0\n",
    "tolerance = 0.02\n",
    "\n",
    "min_error = float('inf')\n",
    "best_rank = -1\n",
    "best_iteration = -1\n",
    "for rank in ranks:\n",
    "    als = ALS(maxIter=iterations, rank=rank, regParam=regularization_parameter, seed=seed, userCol=\"user_id\", \n",
    "          itemCol=\"business_id\", ratingCol=\"stars\", coldStartStrategy=\"drop\")\n",
    "    model = als.fit(training)\n",
    "    predictions = model.transform(validation)\n",
    "    evaluator = RegressionEvaluator(metricName=\"rmse\", \n",
    "                                labelCol=\"stars\",\n",
    "                                predictionCol=\"prediction\")\n",
    "    error = evaluator.evaluate(predictions)\n",
    "    errors[err] = error\n",
    "    err += 1\n",
    "    print('For rank %s the RMSE is %s' % (rank, error))\n",
    "    if error < min_error:\n",
    "        min_error = error\n",
    "        best_rank = rank\n",
    "\n",
    "print('The best model was trained with rank %s' % best_rank)"
   ]
  },
  {
   "cell_type": "code",
   "execution_count": 0,
   "metadata": {
    "colab": {
     "base_uri": "https://localhost:8080/",
     "height": 68
    },
    "colab_type": "code",
    "id": "Bf-BX17H4sc4",
    "outputId": "bd9f3b95-9087-437f-b3a7-9e91645d33d9"
   },
   "outputs": [
    {
     "data": {
      "text/plain": [
       "[Row(user_id=48898, business_id=173382, stars=5.0, prediction=7.059702757279684e-13),\n",
       " Row(user_id=1352785, business_id=186574, stars=4.0, prediction=0.0003806327877100557),\n",
       " Row(user_id=1354006, business_id=3834, stars=5.0, prediction=-3.2748345111270975e-41)]"
      ]
     },
     "execution_count": 8,
     "metadata": {
      "tags": []
     },
     "output_type": "execute_result"
    }
   ],
   "source": [
    "predictions.head(3)"
   ]
  },
  {
   "cell_type": "code",
   "execution_count": 0,
   "metadata": {
    "colab": {
     "base_uri": "https://localhost:8080/",
     "height": 34
    },
    "colab_type": "code",
    "id": "CMw_TJ-u5Aq-",
    "outputId": "84c5d434-dae3-4490-c047-e9ad59259860"
   },
   "outputs": [
    {
     "name": "stdout",
     "output_type": "stream",
     "text": [
      "For testing data the RMSE is 3.932013566624354\n"
     ]
    }
   ],
   "source": [
    "als = ALS(maxIter=iterations, rank=best_rank, regParam=regularization_parameter, seed=seed, userCol=\"user_id\", \n",
    "          itemCol=\"business_id\", ratingCol=\"stars\", coldStartStrategy=\"drop\")\n",
    "model = als.fit(training)\n",
    "predictions = model.transform(test)\n",
    "evaluator = RegressionEvaluator(metricName=\"rmse\", \n",
    "                                labelCol=\"stars\",\n",
    "                                predictionCol=\"prediction\")\n",
    "error = evaluator.evaluate(predictions)\n",
    "    \n",
    "print('For testing data the RMSE is %s' % (error))"
   ]
  },
  {
   "cell_type": "markdown",
   "metadata": {
    "colab_type": "text",
    "id": "iFdwAmSivWUX"
   },
   "source": [
    "## Recommendation"
   ]
  },
  {
   "cell_type": "code",
   "execution_count": 0,
   "metadata": {
    "colab": {
     "base_uri": "https://localhost:8080/",
     "height": 272
    },
    "colab_type": "code",
    "id": "mXDEs7uvvW7F",
    "outputId": "0f00e21a-f5b0-4925-8b63-5c4d45402878"
   },
   "outputs": [
    {
     "name": "stdout",
     "output_type": "stream",
     "text": [
      "\n",
      "Building recommendation model...\n",
      "Computing recommendations...\n",
      "\n",
      "We recommend:\n",
      "Animal Kindness Veterinary Hospital 4.542446337259187\n",
      "Gio Rana's Really Really Nice Restaurant 4.528699723489563\n",
      "Biaggio's Pizzeria 4.51662373084823\n",
      "Nikki's Akropolis Pizza 4.481412511521263\n",
      "Clear View Home Inspections 4.459661964887028\n",
      "Fountains of Bellagio 4.4584252409045915\n",
      "PokÃ© Catcher 4.454446491709405\n",
      "Las Enchiladas Demama 4.454090502414389\n",
      "Gun Garage 4.445375169969016\n",
      "Pink Cherry Wax 4.4436391083879005\n"
     ]
    }
   ],
   "source": [
    "testSubject = 956232\n",
    "\n",
    "print(\"\\nBuilding recommendation model...\")\n",
    "\n",
    "trainSet = data.build_full_trainset()\n",
    "\n",
    "model = SVDpp(n_epochs=40, lr_all=0.01, reg_all=0.2)\n",
    "\n",
    "model.fit(trainSet)\n",
    "            \n",
    "print(\"Computing recommendations...\")\n",
    "trainset = data.build_full_trainset()\n",
    "fill = trainset.global_mean\n",
    "anti_testset = []\n",
    "u = trainset.to_inner_uid(testSubject)\n",
    "user_items = set([j for (j, _) in trainset.ur[u]])\n",
    "\n",
    "anti_testset += [(trainset.to_raw_uid(u), trainset.to_raw_iid(i), fill) for\n",
    "                                 i in trainset.all_items() if\n",
    "                                 i not in user_items]\n",
    "testSet = anti_testset\n",
    "        \n",
    "predictions = model.test(testSet)\n",
    "            \n",
    "recommendations = []\n",
    "\n",
    "print (\"\\nWe recommend:\")\n",
    "for user_id, business_id, stars, estimatedRating, _ in predictions:\n",
    "  recommendations.append((business_id, estimatedRating))\n",
    "\n",
    "recommendations.sort(key=lambda x: x[1], reverse=True)\n",
    "\n",
    "for ratings in recommendations[:10]:\n",
    "  print(business_data[business_data.business_id == ratings[0]][\"name\"].values[0], ratings[1])"
   ]
  },
  {
   "cell_type": "code",
   "execution_count": 0,
   "metadata": {
    "colab": {},
    "colab_type": "code",
    "id": "McFmF8zLoell"
   },
   "outputs": [],
   "source": []
  }
 ],
 "metadata": {
  "accelerator": "GPU",
  "colab": {
   "collapsed_sections": [],
   "name": "Yelp_Evaluation.ipynb",
   "provenance": [],
   "toc_visible": true,
   "version": "0.3.2"
  },
  "kernelspec": {
   "display_name": "Python 3",
   "language": "python",
   "name": "python3"
  },
  "language_info": {
   "codemirror_mode": {
    "name": "ipython",
    "version": 3
   },
   "file_extension": ".py",
   "mimetype": "text/x-python",
   "name": "python",
   "nbconvert_exporter": "python",
   "pygments_lexer": "ipython3",
   "version": "3.6.5"
  }
 },
 "nbformat": 4,
 "nbformat_minor": 1
}
